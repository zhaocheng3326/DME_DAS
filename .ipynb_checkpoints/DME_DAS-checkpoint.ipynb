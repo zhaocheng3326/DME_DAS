{
 "cells": [
  {
   "cell_type": "markdown",
   "metadata": {},
   "source": [
    "# Analysis of alternative splicing associated with DNA methylation and histone modification"
   ]
  },
  {
   "cell_type": "code",
   "execution_count": 1,
   "metadata": {
    "collapsed": true
   },
   "outputs": [],
   "source": [
    "from IPython import display"
   ]
  },
  {
   "cell_type": "markdown",
   "metadata": {},
   "source": [
    "## 1. Background\n",
    "\n",
    "**cotranscriptional splicing**\n"
   ]
  },
  {
   "cell_type": "code",
   "execution_count": 3,
   "metadata": {
    "collapsed": false
   },
   "outputs": [
    {
     "data": {
      "text/html": [
       "\n",
       "        <iframe\n",
       "            width=\"850\"\n",
       "            height=\"500\"\n",
       "            src=\"notebook_material/DME_DAS_bg.pdf\"\n",
       "            frameborder=\"0\"\n",
       "            allowfullscreen\n",
       "        ></iframe>\n",
       "        "
      ],
      "text/plain": [
       "<IPython.lib.display.IFrame at 0x7f4a506fec50>"
      ]
     },
     "execution_count": 3,
     "metadata": {},
     "output_type": "execute_result"
    }
   ],
   "source": [
    "display.IFrame('notebook_material/DME_DAS_bg.pdf',width=850,height=500)"
   ]
  },
  {
   "cell_type": "markdown",
   "metadata": {},
   "source": [
    "## Data source\n",
    "\n",
    "DNA methylation data and corresponding RNA seq data is download from GSE39901,GSE22411 and GSE28398. Histone modification chip-seq data is collected from Histone modification projecti(HM).\n",
    "\n",
    "RNA-seq data:\n",
    "Mutant: cmt2,cmt3,drm12,drm12cmt2,drm12cmt3,drm12cmt23,suvh456,atxr56,atxr56drm12,atxr56mom1,mom1.\n",
    "\n",
    "BS-seq data:\n",
    "Mutant:cmt2,cmt3,drm12,drm12cmt2,drm12cmt3,drm12cmt23,suvh456,atrx56,mom1.\n",
    "\n",
    "Chip-Seq data:\n",
    "Col-0 histone modification: H3K4me2, H3K4me3, H3K9Ac, H3K9me2, H3K18Ac, H3K23ac,H3K27me1, H3K27me3, H3K36me2, H3K36me3.\n",
    "Mutant: suvh456 (H3k9me2,H3K23ac),Drm12cmt23(H3k9me2,H3K23ac),ATXR5/6 (H3K27me1)\n",
    "\n",
    "\n",
    "\n"
   ]
  },
  {
   "cell_type": "markdown",
   "metadata": {},
   "source": [
    "## Analysis pipeline"
   ]
  },
  {
   "cell_type": "code",
   "execution_count": 7,
   "metadata": {
    "collapsed": false
   },
   "outputs": [
    {
     "data": {
      "text/html": [
       "\n",
       "        <iframe\n",
       "            width=\"900\"\n",
       "            height=\"500\"\n",
       "            src=\"notebook_material/DME_DAS_analysis_pipeline.pdf\"\n",
       "            frameborder=\"0\"\n",
       "            allowfullscreen\n",
       "        ></iframe>\n",
       "        "
      ],
      "text/plain": [
       "<IPython.lib.display.IFrame at 0x7f4a506b30d0>"
      ]
     },
     "execution_count": 7,
     "metadata": {},
     "output_type": "execute_result"
    }
   ],
   "source": [
    "display.IFrame('notebook_material/DME_DAS_analysis_pipeline.pdf',width=900,height=500)"
   ]
  },
  {
   "cell_type": "markdown",
   "metadata": {
    "collapsed": false
   },
   "source": [
    "`source /home/czhao/My_project/DME_DAS/bin/source.bash`"
   ]
  },
  {
   "cell_type": "markdown",
   "metadata": {},
   "source": [
    "## 2.Pipeline\n",
    "Take ddm1 and Col as example"
   ]
  },
  {
   "cell_type": "markdown",
   "metadata": {},
   "source": [
    "#### 1. Mapping of RNAseq clean data\n",
    "`qsub $BIN/tophat_htseq.bash`"
   ]
  },
  {
   "cell_type": "markdown",
   "metadata": {
    "collapsed": true
   },
   "source": [
    "#### 2. Identification of differentially alternative splicing events"
   ]
  },
  {
   "cell_type": "markdown",
   "metadata": {},
   "source": [
    "* [rMATs pipeline](http://rnaseq-mats.sourceforge.net/)\n",
    "     with replcate, require reads with same length(means carefully QC)\n",
    "    \n",
    "    `bash $BIN/rMATS.bash`\n",
    "    (python 2.7.6, high sensitivety)"
   ]
  },
  {
   "cell_type": "markdown",
   "metadata": {},
   "source": [
    "* [RACKj analysis pipeline](http://rackj.sourceforge.net/RNAseqExample/index.html) used reads based model to identify DAS\n",
    "\n",
    "    `bash $BIN/RACKj.bash`  \n",
    "    IR:intron/gene; ALDA:junction/assocaited junction; ES: exon/associated exon\n",
    "    "
   ]
  },
  {
   "cell_type": "markdown",
   "metadata": {},
   "source": [
    "* [spankisplice](https://www.ncbi.nlm.nih.gov/pubmed/26455460)"
   ]
  },
  {
   "cell_type": "code",
   "execution_count": 10,
   "metadata": {
    "collapsed": false
   },
   "outputs": [
    {
     "data": {
      "text/html": [
       "\n",
       "        <iframe\n",
       "            width=\"700\"\n",
       "            height=\"450\"\n",
       "            src=\"notebook_material/AS_sankisplice.png\"\n",
       "            frameborder=\"0\"\n",
       "            allowfullscreen\n",
       "        ></iframe>\n",
       "        "
      ],
      "text/plain": [
       "<IPython.lib.display.IFrame at 0x7f4a506b3150>"
      ]
     },
     "execution_count": 10,
     "metadata": {},
     "output_type": "execute_result"
    }
   ],
   "source": [
    "display.IFrame('notebook_material/AS_sankisplice.png',width=700,height=450)"
   ]
  },
  {
   "cell_type": "markdown",
   "metadata": {},
   "source": [
    "#### 3. DMR(differentially methylated region) analysis"
   ]
  },
  {
   "cell_type": "markdown",
   "metadata": {},
   "source": [
    "DMR requirments:\n",
    "+ at least 4 DMC(fisher exact test,pvalue <0.01)\n",
    "+ at least 1.5 fold change in methylation level\n",
    "+ FDR <0.05(fisher exact test)\n",
    "\n",
    "`qsub $BIN/bsmap.bash` #BS-Seq data is mapped by bsmap\n",
    "\n",
    "`qsub $BIN/DMR_analysis.bash` #bash wtVSmt_DMC_DMR_driver.bash wt mt "
   ]
  },
  {
   "cell_type": "markdown",
   "metadata": {},
   "source": [
    "##### 4.Stastic analysis\n",
    "`bash $BIN/Stastic.bash`"
   ]
  },
  {
   "cell_type": "markdown",
   "metadata": {},
   "source": [
    "### 3.Results"
   ]
  },
  {
   "cell_type": "code",
   "execution_count": 11,
   "metadata": {
    "collapsed": false
   },
   "outputs": [
    {
     "data": {
      "text/html": [
       "\n",
       "        <iframe\n",
       "            width=\"900\"\n",
       "            height=\"600\"\n",
       "            src=\"notebook_material/DME_DAS_analysis_results.pdf\"\n",
       "            frameborder=\"0\"\n",
       "            allowfullscreen\n",
       "        ></iframe>\n",
       "        "
      ],
      "text/plain": [
       "<IPython.lib.display.IFrame at 0x7f4a506b32d0>"
      ]
     },
     "execution_count": 11,
     "metadata": {},
     "output_type": "execute_result"
    }
   ],
   "source": [
    "display.IFrame('notebook_material/DME_DAS_analysis_results.pdf',width=900,height=600)"
   ]
  },
  {
   "cell_type": "markdown",
   "metadata": {},
   "source": [
    "**Note: This project is my first project**.  "
   ]
  }
 ],
 "metadata": {
  "anaconda-cloud": {},
  "kernelspec": {
   "display_name": "Python [conda root]",
   "language": "python",
   "name": "conda-root-py"
  },
  "language_info": {
   "codemirror_mode": {
    "name": "ipython",
    "version": 2
   },
   "file_extension": ".py",
   "mimetype": "text/x-python",
   "name": "python",
   "nbconvert_exporter": "python",
   "pygments_lexer": "ipython2",
   "version": "2.7.12"
  }
 },
 "nbformat": 4,
 "nbformat_minor": 1
}
